{
 "cells": [
  {
   "cell_type": "code",
   "execution_count": 16,
   "id": "b7beaa1e",
   "metadata": {},
   "outputs": [
    {
     "name": "stdout",
     "output_type": "stream",
     "text": [
      " 1'st day of python practice\n"
     ]
    }
   ],
   "source": [
    "print(\" 1'st day of python practice\")"
   ]
  },
  {
   "cell_type": "markdown",
   "id": "c1ff0e03",
   "metadata": {},
   "source": [
    "lets start\n"
   ]
  },
  {
   "cell_type": "code",
   "execution_count": 6,
   "id": "e91013df",
   "metadata": {},
   "outputs": [
    {
     "data": {
      "text/plain": [
       "int"
      ]
     },
     "execution_count": 6,
     "metadata": {},
     "output_type": "execute_result"
    }
   ],
   "source": [
    "a=20\n",
    "id(a) \n",
    "type(a)\n"
   ]
  },
  {
   "cell_type": "code",
   "execution_count": 7,
   "id": "03d42daa",
   "metadata": {},
   "outputs": [
    {
     "data": {
      "text/plain": [
       "str"
      ]
     },
     "execution_count": 7,
     "metadata": {},
     "output_type": "execute_result"
    }
   ],
   "source": [
    "c='20'\n",
    "type(c)"
   ]
  },
  {
   "cell_type": "code",
   "execution_count": 9,
   "id": "21674295",
   "metadata": {},
   "outputs": [
    {
     "data": {
      "text/plain": [
       "list"
      ]
     },
     "execution_count": 9,
     "metadata": {},
     "output_type": "execute_result"
    }
   ],
   "source": [
    "lst=[20,'amol',True]\n",
    "type(lst)"
   ]
  },
  {
   "cell_type": "code",
   "execution_count": 10,
   "id": "a484e7e7",
   "metadata": {},
   "outputs": [],
   "source": [
    "d=(20,\"am\",False)"
   ]
  },
  {
   "cell_type": "code",
   "execution_count": 11,
   "id": "5ed68d63",
   "metadata": {},
   "outputs": [
    {
     "data": {
      "text/plain": [
       "tuple"
      ]
     },
     "execution_count": 11,
     "metadata": {},
     "output_type": "execute_result"
    }
   ],
   "source": [
    "type(d)"
   ]
  },
  {
   "cell_type": "code",
   "execution_count": 14,
   "id": "81b248f0",
   "metadata": {},
   "outputs": [
    {
     "data": {
      "text/plain": [
       "True"
      ]
     },
     "execution_count": 14,
     "metadata": {},
     "output_type": "execute_result"
    }
   ],
   "source": [
    "a=\"amol gite\"\n",
    "b=\"amol gite\"\n",
    "c=\"Amol gite\"\n",
    "a==b\n"
   ]
  },
  {
   "cell_type": "code",
   "execution_count": 15,
   "id": "baca3597",
   "metadata": {},
   "outputs": [
    {
     "data": {
      "text/plain": [
       "False"
      ]
     },
     "execution_count": 15,
     "metadata": {},
     "output_type": "execute_result"
    }
   ],
   "source": [
    "b==c"
   ]
  },
  {
   "cell_type": "markdown",
   "id": "61bd1c34",
   "metadata": {},
   "source": [
    "typecasting"
   ]
  },
  {
   "cell_type": "code",
   "execution_count": 18,
   "id": "f2e98c07",
   "metadata": {},
   "outputs": [
    {
     "data": {
      "text/plain": [
       "int"
      ]
     },
     "execution_count": 18,
     "metadata": {},
     "output_type": "execute_result"
    }
   ],
   "source": [
    "a=100\n",
    "type(a)"
   ]
  },
  {
   "cell_type": "code",
   "execution_count": 21,
   "id": "0f6d09d0",
   "metadata": {},
   "outputs": [
    {
     "data": {
      "text/plain": [
       "100.0"
      ]
     },
     "execution_count": 21,
     "metadata": {},
     "output_type": "execute_result"
    }
   ],
   "source": [
    "a=float(a)\n",
    "type(a)\n",
    "a"
   ]
  },
  {
   "cell_type": "code",
   "execution_count": 22,
   "id": "ed153754",
   "metadata": {},
   "outputs": [
    {
     "data": {
      "text/plain": [
       "'100.0'"
      ]
     },
     "execution_count": 22,
     "metadata": {},
     "output_type": "execute_result"
    }
   ],
   "source": [
    "b=str(a)"
   ]
  },
  {
   "cell_type": "code",
   "execution_count": 23,
   "id": "64d87880",
   "metadata": {},
   "outputs": [
    {
     "data": {
      "text/plain": [
       "str"
      ]
     },
     "execution_count": 23,
     "metadata": {},
     "output_type": "execute_result"
    }
   ],
   "source": [
    "type(b)"
   ]
  },
  {
   "cell_type": "code",
   "execution_count": 25,
   "id": "32d15d60",
   "metadata": {},
   "outputs": [
    {
     "data": {
      "text/plain": [
       "False"
      ]
     },
     "execution_count": 25,
     "metadata": {},
     "output_type": "execute_result"
    }
   ],
   "source": [
    "a=0\n",
    "a=bool(a)\n",
    "a"
   ]
  },
  {
   "cell_type": "code",
   "execution_count": 27,
   "id": "a34f1100",
   "metadata": {},
   "outputs": [
    {
     "data": {
      "text/plain": [
       "True"
      ]
     },
     "execution_count": 27,
     "metadata": {},
     "output_type": "execute_result"
    }
   ],
   "source": [
    "a=20\n",
    "a=bool(a)\n",
    "a"
   ]
  },
  {
   "cell_type": "code",
   "execution_count": 29,
   "id": "2fe39e86",
   "metadata": {},
   "outputs": [
    {
     "data": {
      "text/plain": [
       "'Amol gite'"
      ]
     },
     "execution_count": 29,
     "metadata": {},
     "output_type": "execute_result"
    }
   ],
   "source": [
    "a=\"amol gite\"\n",
    "a.capitalize()\n",
    "\n"
   ]
  },
  {
   "cell_type": "code",
   "execution_count": 30,
   "id": "973ec16d",
   "metadata": {},
   "outputs": [
    {
     "data": {
      "text/plain": [
       "'a:m:o:l: :g:i:t:e'"
      ]
     },
     "execution_count": 30,
     "metadata": {},
     "output_type": "execute_result"
    }
   ],
   "source": [
    "#join functn a-avoa-sv-s-s-like that\n",
    "\n",
    "':'.join(a)"
   ]
  },
  {
   "cell_type": "code",
   "execution_count": 31,
   "id": "0a70df08",
   "metadata": {},
   "outputs": [
    {
     "data": {
      "text/plain": [
       "'a-m-o-l- -g-i-t-e'"
      ]
     },
     "execution_count": 31,
     "metadata": {},
     "output_type": "execute_result"
    }
   ],
   "source": [
    "'-'.join(a)"
   ]
  },
  {
   "cell_type": "code",
   "execution_count": 34,
   "id": "bc13ea95",
   "metadata": {},
   "outputs": [
    {
     "data": {
      "text/plain": [
       "':'"
      ]
     },
     "execution_count": 34,
     "metadata": {},
     "output_type": "execute_result"
    }
   ],
   "source": [
    "a=\"whats are you doing\"\n",
    "a.join(':')"
   ]
  },
  {
   "cell_type": "code",
   "execution_count": 35,
   "id": "252bdbcf",
   "metadata": {},
   "outputs": [
    {
     "data": {
      "text/plain": [
       "'w,h,a,t,s, ,a,r,e, ,y,o,u, ,d,o,i,n,g'"
      ]
     },
     "execution_count": 35,
     "metadata": {},
     "output_type": "execute_result"
    }
   ],
   "source": [
    "','.join(a)"
   ]
  },
  {
   "cell_type": "code",
   "execution_count": 36,
   "id": "2aae06a4",
   "metadata": {},
   "outputs": [
    {
     "data": {
      "text/plain": [
       "'whats are you doing'"
      ]
     },
     "execution_count": 36,
     "metadata": {},
     "output_type": "execute_result"
    }
   ],
   "source": [
    "a"
   ]
  },
  {
   "cell_type": "code",
   "execution_count": 37,
   "id": "c999d6e0",
   "metadata": {},
   "outputs": [
    {
     "data": {
      "text/plain": [
       "10"
      ]
     },
     "execution_count": 37,
     "metadata": {},
     "output_type": "execute_result"
    }
   ],
   "source": [
    "a.index('you')"
   ]
  },
  {
   "cell_type": "code",
   "execution_count": 38,
   "id": "cc01a776",
   "metadata": {},
   "outputs": [
    {
     "data": {
      "text/plain": [
       "0"
      ]
     },
     "execution_count": 38,
     "metadata": {},
     "output_type": "execute_result"
    }
   ],
   "source": [
    "a.index('w')"
   ]
  },
  {
   "cell_type": "code",
   "execution_count": 39,
   "id": "1da3d14e",
   "metadata": {},
   "outputs": [
    {
     "data": {
      "text/plain": [
       "False"
      ]
     },
     "execution_count": 39,
     "metadata": {},
     "output_type": "execute_result"
    }
   ],
   "source": [
    "a.startswith('a')"
   ]
  },
  {
   "cell_type": "code",
   "execution_count": 40,
   "id": "c44ca549",
   "metadata": {},
   "outputs": [
    {
     "data": {
      "text/plain": [
       "True"
      ]
     },
     "execution_count": 40,
     "metadata": {},
     "output_type": "execute_result"
    }
   ],
   "source": [
    "a.startswith('w')"
   ]
  },
  {
   "cell_type": "code",
   "execution_count": 42,
   "id": "7a02f77a",
   "metadata": {},
   "outputs": [
    {
     "data": {
      "text/plain": [
       "'whats is she doing'"
      ]
     },
     "execution_count": 42,
     "metadata": {},
     "output_type": "execute_result"
    }
   ],
   "source": [
    "#replace(old,new)\n",
    "\n",
    "a.replace(\"are you\",'is she')"
   ]
  },
  {
   "cell_type": "code",
   "execution_count": 43,
   "id": "4b277558",
   "metadata": {},
   "outputs": [
    {
     "data": {
      "text/plain": [
       "'whats are you doing'"
      ]
     },
     "execution_count": 43,
     "metadata": {},
     "output_type": "execute_result"
    }
   ],
   "source": [
    "a\n",
    "#but replace chages is temporary"
   ]
  },
  {
   "cell_type": "code",
   "execution_count": 45,
   "id": "956372f6",
   "metadata": {},
   "outputs": [
    {
     "data": {
      "text/plain": [
       "['whats', 'are', 'you', 'doing']"
      ]
     },
     "execution_count": 45,
     "metadata": {},
     "output_type": "execute_result"
    }
   ],
   "source": [
    "#split-split in list\n",
    "#for list of data\n",
    "\n",
    "a.split(' ')"
   ]
  },
  {
   "cell_type": "code",
   "execution_count": 46,
   "id": "7cd11e08",
   "metadata": {},
   "outputs": [
    {
     "data": {
      "text/plain": [
       "['wh', 'ts ', 're you doing']"
      ]
     },
     "execution_count": 46,
     "metadata": {},
     "output_type": "execute_result"
    }
   ],
   "source": [
    "a.split('a')"
   ]
  },
  {
   "cell_type": "code",
   "execution_count": 47,
   "id": "6c9402c2",
   "metadata": {},
   "outputs": [
    {
     "data": {
      "text/plain": [
       "'WHATS ARE YOU DOING'"
      ]
     },
     "execution_count": 47,
     "metadata": {},
     "output_type": "execute_result"
    }
   ],
   "source": [
    "a.swapcase()"
   ]
  },
  {
   "cell_type": "code",
   "execution_count": 48,
   "id": "f32d3a56",
   "metadata": {},
   "outputs": [
    {
     "data": {
      "text/plain": [
       "'whats are you doing'"
      ]
     },
     "execution_count": 48,
     "metadata": {},
     "output_type": "execute_result"
    }
   ],
   "source": [
    "a.lower()"
   ]
  },
  {
   "cell_type": "code",
   "execution_count": 49,
   "id": "4d7a9dd6",
   "metadata": {},
   "outputs": [
    {
     "data": {
      "text/plain": [
       "'WHATS ARE YOU DOING'"
      ]
     },
     "execution_count": 49,
     "metadata": {},
     "output_type": "execute_result"
    }
   ],
   "source": [
    "a.upper()"
   ]
  },
  {
   "cell_type": "code",
   "execution_count": 50,
   "id": "e976170a",
   "metadata": {},
   "outputs": [
    {
     "data": {
      "text/plain": [
       "'Whats Are You Doing'"
      ]
     },
     "execution_count": 50,
     "metadata": {},
     "output_type": "execute_result"
    }
   ],
   "source": [
    "a.title()                        #every word star with cap letter"
   ]
  },
  {
   "cell_type": "markdown",
   "id": "8eec545c",
   "metadata": {},
   "source": [
    "data structure"
   ]
  },
  {
   "cell_type": "code",
   "execution_count": 56,
   "id": "4ab2ef94",
   "metadata": {},
   "outputs": [
    {
     "data": {
      "text/plain": [
       "[10, 'amol', True]"
      ]
     },
     "execution_count": 56,
     "metadata": {},
     "output_type": "execute_result"
    }
   ],
   "source": [
    "#list -                         mutalble,heterogeneous,1D \n",
    "\n",
    "a=[10,'amol',True]\n",
    "a\n"
   ]
  },
  {
   "cell_type": "code",
   "execution_count": 57,
   "id": "0a4bdbe8",
   "metadata": {},
   "outputs": [
    {
     "data": {
      "text/plain": [
       "list"
      ]
     },
     "execution_count": 57,
     "metadata": {},
     "output_type": "execute_result"
    }
   ],
   "source": [
    "type(a)"
   ]
  },
  {
   "cell_type": "code",
   "execution_count": 60,
   "id": "221da6df",
   "metadata": {},
   "outputs": [
    {
     "data": {
      "text/plain": [
       "('amol', True)"
      ]
     },
     "execution_count": 60,
     "metadata": {},
     "output_type": "execute_result"
    }
   ],
   "source": [
    "a[1],a[-1]"
   ]
  },
  {
   "cell_type": "code",
   "execution_count": 61,
   "id": "c97821c3",
   "metadata": {},
   "outputs": [
    {
     "data": {
      "text/plain": [
       "[10, 'amol', True]"
      ]
     },
     "execution_count": 61,
     "metadata": {},
     "output_type": "execute_result"
    }
   ],
   "source": [
    "a[0:3]"
   ]
  },
  {
   "cell_type": "code",
   "execution_count": 64,
   "id": "45e40186",
   "metadata": {},
   "outputs": [],
   "source": [
    "a.append('20')   #two time run two timses added at last of list"
   ]
  },
  {
   "cell_type": "code",
   "execution_count": 65,
   "id": "53fcc5e8",
   "metadata": {},
   "outputs": [
    {
     "data": {
      "text/plain": [
       "[10, 'amol', True, '20', '20']"
      ]
     },
     "execution_count": 65,
     "metadata": {},
     "output_type": "execute_result"
    }
   ],
   "source": [
    "a"
   ]
  },
  {
   "cell_type": "code",
   "execution_count": 66,
   "id": "03594412",
   "metadata": {},
   "outputs": [
    {
     "data": {
      "text/plain": [
       "2"
      ]
     },
     "execution_count": 66,
     "metadata": {},
     "output_type": "execute_result"
    }
   ],
   "source": [
    "a.count('20')"
   ]
  },
  {
   "cell_type": "code",
   "execution_count": 67,
   "id": "fc0ad3bf",
   "metadata": {},
   "outputs": [
    {
     "data": {
      "text/plain": [
       "0"
      ]
     },
     "execution_count": 67,
     "metadata": {},
     "output_type": "execute_result"
    }
   ],
   "source": [
    "a.count('2')"
   ]
  },
  {
   "cell_type": "code",
   "execution_count": 69,
   "id": "8e875cc9",
   "metadata": {},
   "outputs": [],
   "source": [
    "a.append(0)"
   ]
  },
  {
   "cell_type": "code",
   "execution_count": 70,
   "id": "0dc2979b",
   "metadata": {},
   "outputs": [
    {
     "data": {
      "text/plain": [
       "[10, 'amol', True, '20', '20', 1, 0]"
      ]
     },
     "execution_count": 70,
     "metadata": {},
     "output_type": "execute_result"
    }
   ],
   "source": [
    "a"
   ]
  },
  {
   "cell_type": "code",
   "execution_count": 71,
   "id": "9c24b8d1",
   "metadata": {},
   "outputs": [
    {
     "data": {
      "text/plain": [
       "2"
      ]
     },
     "execution_count": 71,
     "metadata": {},
     "output_type": "execute_result"
    }
   ],
   "source": [
    "a.count(True)"
   ]
  },
  {
   "cell_type": "code",
   "execution_count": 72,
   "id": "c0ca7dab",
   "metadata": {},
   "outputs": [
    {
     "data": {
      "text/plain": [
       "1"
      ]
     },
     "execution_count": 72,
     "metadata": {},
     "output_type": "execute_result"
    }
   ],
   "source": [
    "a.count(False)"
   ]
  },
  {
   "cell_type": "code",
   "execution_count": 75,
   "id": "3630a705",
   "metadata": {},
   "outputs": [
    {
     "data": {
      "text/plain": [
       "1"
      ]
     },
     "execution_count": 75,
     "metadata": {},
     "output_type": "execute_result"
    }
   ],
   "source": [
    "a.index('amol')"
   ]
  },
  {
   "cell_type": "code",
   "execution_count": 78,
   "id": "7f399e7e",
   "metadata": {},
   "outputs": [
    {
     "data": {
      "text/plain": [
       "2"
      ]
     },
     "execution_count": 78,
     "metadata": {},
     "output_type": "execute_result"
    }
   ],
   "source": [
    "a.index(1)"
   ]
  },
  {
   "cell_type": "code",
   "execution_count": 79,
   "id": "13184df7",
   "metadata": {},
   "outputs": [],
   "source": [
    "#insert(index,value)\n",
    "\n",
    "a.insert(2,False)\n"
   ]
  },
  {
   "cell_type": "code",
   "execution_count": 80,
   "id": "71f8550b",
   "metadata": {},
   "outputs": [],
   "source": [
    "a.insert(5,16.22)"
   ]
  },
  {
   "cell_type": "code",
   "execution_count": 86,
   "id": "c14d776e",
   "metadata": {},
   "outputs": [
    {
     "data": {
      "text/plain": [
       "[10, 'amol', False, True, '20', 16.22, '20']"
      ]
     },
     "execution_count": 86,
     "metadata": {},
     "output_type": "execute_result"
    }
   ],
   "source": [
    "a"
   ]
  },
  {
   "cell_type": "code",
   "execution_count": 84,
   "id": "7d1a39ce",
   "metadata": {},
   "outputs": [
    {
     "data": {
      "text/plain": [
       "1"
      ]
     },
     "execution_count": 84,
     "metadata": {},
     "output_type": "execute_result"
    }
   ],
   "source": [
    "#pop last value remove how much time run that much vak=lue remove\n",
    "\n",
    "a.pop()  #two time run"
   ]
  },
  {
   "cell_type": "code",
   "execution_count": 85,
   "id": "9d36f32a",
   "metadata": {},
   "outputs": [
    {
     "data": {
      "text/plain": [
       "[10, 'amol', False, True, '20', 16.22, '20']"
      ]
     },
     "execution_count": 85,
     "metadata": {},
     "output_type": "execute_result"
    }
   ],
   "source": [
    "a "
   ]
  },
  {
   "cell_type": "code",
   "execution_count": 87,
   "id": "a38c5984",
   "metadata": {},
   "outputs": [
    {
     "data": {
      "text/plain": [
       "[10, 'amol', False, True, '20', 16.22, '20']"
      ]
     },
     "execution_count": 87,
     "metadata": {},
     "output_type": "execute_result"
    }
   ],
   "source": [
    "a"
   ]
  },
  {
   "cell_type": "code",
   "execution_count": 98,
   "id": "cec2834c",
   "metadata": {},
   "outputs": [
    {
     "data": {
      "text/plain": [
       "[True, False, 'amol', 10]"
      ]
     },
     "execution_count": 98,
     "metadata": {},
     "output_type": "execute_result"
    }
   ],
   "source": [
    "a.reverse()\n",
    "a"
   ]
  },
  {
   "cell_type": "code",
   "execution_count": 96,
   "id": "89e06570",
   "metadata": {},
   "outputs": [
    {
     "data": {
      "text/plain": [
       "[True, False, 'amol', 10]"
      ]
     },
     "execution_count": 96,
     "metadata": {},
     "output_type": "execute_result"
    }
   ],
   "source": [
    "#remove(value)\n",
    "\n",
    "a.remove()\n",
    "a"
   ]
  },
  {
   "cell_type": "code",
   "execution_count": 100,
   "id": "04667fe2",
   "metadata": {},
   "outputs": [
    {
     "data": {
      "text/plain": [
       "[True, False, 'amol', 10, '18.34', '18.34']"
      ]
     },
     "execution_count": 100,
     "metadata": {},
     "output_type": "execute_result"
    }
   ],
   "source": [
    "a.append('18.34')\n",
    "a"
   ]
  },
  {
   "cell_type": "code",
   "execution_count": 102,
   "id": "0ae1f155",
   "metadata": {},
   "outputs": [
    {
     "data": {
      "text/plain": [
       "[True, False, 'amol', 10, 17, '18.34']"
      ]
     },
     "execution_count": 102,
     "metadata": {},
     "output_type": "execute_result"
    }
   ],
   "source": [
    "a[4]=17\n",
    "a"
   ]
  },
  {
   "cell_type": "code",
   "execution_count": 105,
   "id": "a9078cde",
   "metadata": {},
   "outputs": [
    {
     "data": {
      "text/plain": [
       "[True, False, 'amol', 10, 17, 17, 17, 17, '18.34']"
      ]
     },
     "execution_count": 105,
     "metadata": {},
     "output_type": "execute_result"
    }
   ],
   "source": [
    "a[4:5]=(17,17)\n",
    "a"
   ]
  },
  {
   "cell_type": "code",
   "execution_count": 106,
   "id": "fc8bc947",
   "metadata": {},
   "outputs": [],
   "source": [
    "a[0:1]=(1,0)"
   ]
  },
  {
   "cell_type": "code",
   "execution_count": 107,
   "id": "0b14bf77",
   "metadata": {},
   "outputs": [
    {
     "data": {
      "text/plain": [
       "[1, 0, False, 'amol', 10, 17, 17, 17, 17, '18.34']"
      ]
     },
     "execution_count": 107,
     "metadata": {},
     "output_type": "execute_result"
    }
   ],
   "source": [
    "a"
   ]
  },
  {
   "cell_type": "code",
   "execution_count": 112,
   "id": "4f0e33e5",
   "metadata": {},
   "outputs": [],
   "source": [
    "a[0:2]=1,0,1"
   ]
  },
  {
   "cell_type": "code",
   "execution_count": 113,
   "id": "a5a5ac03",
   "metadata": {},
   "outputs": [
    {
     "data": {
      "text/plain": [
       "[1, 0, 1, False, 'amol', 10, 17, 17, 17, 17, '18.34']"
      ]
     },
     "execution_count": 113,
     "metadata": {},
     "output_type": "execute_result"
    }
   ],
   "source": [
    "a"
   ]
  },
  {
   "cell_type": "code",
   "execution_count": null,
   "id": "26db8b74",
   "metadata": {},
   "outputs": [],
   "source": []
  },
  {
   "cell_type": "markdown",
   "id": "cf6ce24c",
   "metadata": {},
   "source": [
    "tuple"
   ]
  },
  {
   "cell_type": "code",
   "execution_count": 114,
   "id": "74992789",
   "metadata": {},
   "outputs": [
    {
     "data": {
      "text/plain": [
       "(10, 'zolo', 10.32, True)"
      ]
     },
     "execution_count": 114,
     "metadata": {},
     "output_type": "execute_result"
    }
   ],
   "source": [
    "#heterogeneos , immutable t=()\n",
    "\n",
    "t=(10,\"zolo\",10.32,True)\n",
    "t"
   ]
  },
  {
   "cell_type": "code",
   "execution_count": 115,
   "id": "c6b26df2",
   "metadata": {},
   "outputs": [
    {
     "data": {
      "text/plain": [
       "1"
      ]
     },
     "execution_count": 115,
     "metadata": {},
     "output_type": "execute_result"
    }
   ],
   "source": [
    "t.count(1)      #true=1"
   ]
  },
  {
   "cell_type": "code",
   "execution_count": 116,
   "id": "389da6ce",
   "metadata": {},
   "outputs": [
    {
     "data": {
      "text/plain": [
       "1"
      ]
     },
     "execution_count": 116,
     "metadata": {},
     "output_type": "execute_result"
    }
   ],
   "source": [
    "t.count('zolo')"
   ]
  },
  {
   "cell_type": "code",
   "execution_count": 117,
   "id": "0f6ea93f",
   "metadata": {},
   "outputs": [
    {
     "data": {
      "text/plain": [
       "3"
      ]
     },
     "execution_count": 117,
     "metadata": {},
     "output_type": "execute_result"
    }
   ],
   "source": [
    "t.index(True)"
   ]
  },
  {
   "cell_type": "code",
   "execution_count": 118,
   "id": "e3501567",
   "metadata": {},
   "outputs": [
    {
     "data": {
      "text/plain": [
       "[20, 'zolo', 10.32, True]"
      ]
     },
     "execution_count": 118,
     "metadata": {},
     "output_type": "execute_result"
    }
   ],
   "source": [
    "#for chnge in tuple not possible but it can be done by typecasting\n",
    "\n",
    "t1=list(t)\n",
    "t1[0]=20\n",
    "t1"
   ]
  },
  {
   "cell_type": "code",
   "execution_count": 119,
   "id": "35776aaf",
   "metadata": {},
   "outputs": [
    {
     "data": {
      "text/plain": [
       "(20, 'zolo', 10.32, True)"
      ]
     },
     "execution_count": 119,
     "metadata": {},
     "output_type": "execute_result"
    }
   ],
   "source": [
    "t=tuple(t1)\n",
    "t"
   ]
  },
  {
   "cell_type": "markdown",
   "id": "1fd8505a",
   "metadata": {},
   "source": [
    "dictionary  mutable ,its a key ,value pair\n",
    "are ordered collection"
   ]
  },
  {
   "cell_type": "code",
   "execution_count": 120,
   "id": "b8e81f4f",
   "metadata": {},
   "outputs": [
    {
     "data": {
      "text/plain": [
       "{1: 'amol', 2: 'shivai', 3: 'gite'}"
      ]
     },
     "execution_count": 120,
     "metadata": {},
     "output_type": "execute_result"
    }
   ],
   "source": [
    "d={1:\"amol\",2:\"shivai\",3:\"gite\"}\n",
    "d"
   ]
  },
  {
   "cell_type": "code",
   "execution_count": 121,
   "id": "717284fe",
   "metadata": {},
   "outputs": [
    {
     "data": {
      "text/plain": [
       "dict"
      ]
     },
     "execution_count": 121,
     "metadata": {},
     "output_type": "execute_result"
    }
   ],
   "source": [
    "type(d)"
   ]
  },
  {
   "cell_type": "code",
   "execution_count": 123,
   "id": "4329c6fe",
   "metadata": {},
   "outputs": [
    {
     "data": {
      "text/plain": [
       "'gite'"
      ]
     },
     "execution_count": 123,
     "metadata": {},
     "output_type": "execute_result"
    }
   ],
   "source": [
    "d.get(3)     #get the value of that key. key is always unique "
   ]
  },
  {
   "cell_type": "code",
   "execution_count": 124,
   "id": "b79b9231",
   "metadata": {},
   "outputs": [
    {
     "data": {
      "text/plain": [
       "dict_items([(1, 'amol'), (2, 'shivai'), (3, 'gite')])"
      ]
     },
     "execution_count": 124,
     "metadata": {},
     "output_type": "execute_result"
    }
   ],
   "source": [
    "d.items()"
   ]
  },
  {
   "cell_type": "code",
   "execution_count": 126,
   "id": "d3c5067b",
   "metadata": {},
   "outputs": [
    {
     "data": {
      "text/plain": [
       "dict_values(['amol', 'shivai', 'gite'])"
      ]
     },
     "execution_count": 126,
     "metadata": {},
     "output_type": "execute_result"
    }
   ],
   "source": [
    "\n",
    "d.values()"
   ]
  },
  {
   "cell_type": "code",
   "execution_count": 127,
   "id": "95cfe559",
   "metadata": {},
   "outputs": [
    {
     "data": {
      "text/plain": [
       "dict_keys([1, 2, 3])"
      ]
     },
     "execution_count": 127,
     "metadata": {},
     "output_type": "execute_result"
    }
   ],
   "source": [
    "d.keys()"
   ]
  },
  {
   "cell_type": "code",
   "execution_count": 128,
   "id": "9e952fd2",
   "metadata": {},
   "outputs": [],
   "source": [
    "d.update({4:\"data scientist\"})"
   ]
  },
  {
   "cell_type": "code",
   "execution_count": 129,
   "id": "8f42a3cf",
   "metadata": {},
   "outputs": [
    {
     "data": {
      "text/plain": [
       "{1: 'amol', 2: 'shivai', 3: 'gite', 4: 'data scientist'}"
      ]
     },
     "execution_count": 129,
     "metadata": {},
     "output_type": "execute_result"
    }
   ],
   "source": [
    "d"
   ]
  },
  {
   "cell_type": "code",
   "execution_count": 130,
   "id": "ea4556a6",
   "metadata": {},
   "outputs": [
    {
     "data": {
      "text/plain": [
       "'data scientist'"
      ]
     },
     "execution_count": 130,
     "metadata": {},
     "output_type": "execute_result"
    }
   ],
   "source": [
    "#pop     in dict is remove input key value\n",
    "\n",
    "d.pop(4)\n"
   ]
  },
  {
   "cell_type": "code",
   "execution_count": 131,
   "id": "263c56b8",
   "metadata": {},
   "outputs": [
    {
     "data": {
      "text/plain": [
       "{1: 'amol', 2: 'shivai', 3: 'gite'}"
      ]
     },
     "execution_count": 131,
     "metadata": {},
     "output_type": "execute_result"
    }
   ],
   "source": [
    "d"
   ]
  },
  {
   "cell_type": "markdown",
   "id": "a8b3f50f",
   "metadata": {},
   "source": [
    "set"
   ]
  },
  {
   "cell_type": "code",
   "execution_count": 132,
   "id": "fa30563a",
   "metadata": {},
   "outputs": [],
   "source": [
    "#immutable not allow duplicate value ,unorderd ,unindexed data  s={10,31,\"aa\"}\n",
    "\n",
    "\n",
    "s={10,31,\"aa\",False}\n"
   ]
  },
  {
   "cell_type": "code",
   "execution_count": 133,
   "id": "72fc8c88",
   "metadata": {},
   "outputs": [
    {
     "data": {
      "text/plain": [
       "{10, 12, 19, 23, 302}"
      ]
     },
     "execution_count": 133,
     "metadata": {},
     "output_type": "execute_result"
    }
   ],
   "source": [
    "s={10,302,23,12,10,19,10}\n",
    "s"
   ]
  },
  {
   "cell_type": "code",
   "execution_count": 134,
   "id": "537691f7",
   "metadata": {},
   "outputs": [],
   "source": [
    "s.add(16)"
   ]
  },
  {
   "cell_type": "code",
   "execution_count": 135,
   "id": "0be2427f",
   "metadata": {},
   "outputs": [
    {
     "data": {
      "text/plain": [
       "{10, 12, 16, 19, 23, 302}"
      ]
     },
     "execution_count": 135,
     "metadata": {},
     "output_type": "execute_result"
    }
   ],
   "source": [
    "s"
   ]
  },
  {
   "cell_type": "code",
   "execution_count": 136,
   "id": "459472c2",
   "metadata": {},
   "outputs": [
    {
     "data": {
      "text/plain": [
       "16"
      ]
     },
     "execution_count": 136,
     "metadata": {},
     "output_type": "execute_result"
    }
   ],
   "source": [
    "s.pop()"
   ]
  },
  {
   "cell_type": "code",
   "execution_count": 137,
   "id": "372101ce",
   "metadata": {},
   "outputs": [
    {
     "data": {
      "text/plain": [
       "19"
      ]
     },
     "execution_count": 137,
     "metadata": {},
     "output_type": "execute_result"
    }
   ],
   "source": [
    "s.pop()"
   ]
  },
  {
   "cell_type": "code",
   "execution_count": 138,
   "id": "eace396f",
   "metadata": {},
   "outputs": [
    {
     "data": {
      "text/plain": [
       "23"
      ]
     },
     "execution_count": 138,
     "metadata": {},
     "output_type": "execute_result"
    }
   ],
   "source": [
    "s.pop()"
   ]
  },
  {
   "cell_type": "code",
   "execution_count": 139,
   "id": "cea0663f",
   "metadata": {},
   "outputs": [
    {
     "data": {
      "text/plain": [
       "{10, 12, 302}"
      ]
     },
     "execution_count": 139,
     "metadata": {},
     "output_type": "execute_result"
    }
   ],
   "source": [
    "s"
   ]
  },
  {
   "cell_type": "code",
   "execution_count": null,
   "id": "e43e9de2",
   "metadata": {},
   "outputs": [],
   "source": []
  }
 ],
 "metadata": {
  "kernelspec": {
   "display_name": "Python 3 (ipykernel)",
   "language": "python",
   "name": "python3"
  },
  "language_info": {
   "codemirror_mode": {
    "name": "ipython",
    "version": 3
   },
   "file_extension": ".py",
   "mimetype": "text/x-python",
   "name": "python",
   "nbconvert_exporter": "python",
   "pygments_lexer": "ipython3",
   "version": "3.9.13"
  }
 },
 "nbformat": 4,
 "nbformat_minor": 5
}
